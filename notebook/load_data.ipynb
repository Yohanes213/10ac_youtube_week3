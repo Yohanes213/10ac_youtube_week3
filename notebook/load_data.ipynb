{
 "cells": [
  {
   "cell_type": "code",
   "execution_count": 6,
   "metadata": {},
   "outputs": [],
   "source": [
    "import pandas as pd\n",
    "import os\n",
    "from dotenv import load_dotenv\n",
    "from shutil import copy2\n",
    "import psycopg2"
   ]
  },
  {
   "cell_type": "code",
   "execution_count": 3,
   "metadata": {},
   "outputs": [],
   "source": [
    "def date_changer(df):\n",
    "\n",
    "    df['Date'] = pd.to_datetime(df['Date'])\n",
    "\n",
    "    return df['Date']"
   ]
  },
  {
   "cell_type": "code",
   "execution_count": 10,
   "metadata": {},
   "outputs": [],
   "source": [
    "base_folder = '../data'\n",
    "\n",
    "for folder in os.listdir(base_folder):\n",
    "    folder_path = os.path.join(base_folder, folder)\n",
    "\n",
    "    if 'Chart data.csv' in os.listdir(folder_path):\n",
    "        df = pd.read_csv(f'{folder_path}/Chart data.csv')\n",
    "\n",
    "        df['Date'] = date_changer(df)\n",
    "\n",
    "        df.to_csv(f'../database_file/{folder}.csv', index=False)\n",
    "\n",
    "    elif len(os.listdir(folder_path)) == 1:\n",
    "        source_file = os.path.join(folder_path, os.listdir(folder_path)[0])\n",
    "        destination_path = '../database_file'\n",
    "\n",
    "        source_name =  os.path.join('../database_file', os.listdir(folder_path)[0])\n",
    "        destination_name = os.path.join('../database_file', f'{folder}.csv')\n",
    "\n",
    "        copy2(source_file, destination_path)\n",
    "        os.rename(source_name, destination_name)\n",
    "\n",
    "    else:\n",
    "        source_file = os.path.join(folder_path, 'Totals.csv')\n",
    "        destination_path = '../database_file'\n",
    "\n",
    "        source_name =  os.path.join('../database_file', 'Totals.csv')\n",
    "        destination_name = os.path.join('../database_file', f'{folder}.csv')\n",
    "\n",
    "        copy2(source_file, destination_path)\n",
    "        os.rename(source_name, destination_name)\n"
   ]
  },
  {
   "cell_type": "code",
   "execution_count": 11,
   "metadata": {},
   "outputs": [
    {
     "ename": "SyntaxError",
     "evalue": "unexpected EOF while parsing (3862444657.py, line 10)",
     "output_type": "error",
     "traceback": [
      "\u001b[0;36m  Cell \u001b[0;32mIn[11], line 10\u001b[0;36m\u001b[0m\n\u001b[0;31m    conn = psycopg2.connect(host=host, port=port, user=username, password=password, database=database)\u001b[0m\n\u001b[0m                                                                                                      ^\u001b[0m\n\u001b[0;31mSyntaxError\u001b[0m\u001b[0;31m:\u001b[0m unexpected EOF while parsing\n"
     ]
    }
   ],
   "source": [
    "load_dotenv('../.env')\n",
    "host=os.getenv('HOST')\n",
    "port=os.getenv('PORT')\n",
    "username=os.getenv('USERNAME')\n",
    "password=os.getenv('PASSWORD')\n",
    "database=os.getenv('DATABASE')\n",
    "\n",
    "\n",
    "def import_csv_to_table(csv_file, table_name):\n",
    "\n",
    "    try:\n",
    "        conn = psycopg2.connect(host=host, port=port, user=username, password=password, database=database)\n",
    "        cur = conn.cursor()\n",
    "\n",
    "\n",
    "        with open(csv_file, 'r') as f:\n",
    "\n",
    "            next(f)\n",
    "            cur.copy_from(f, table_name, sep=';', null='')\n",
    "\n",
    "        conn.commit()\n",
    "        cur.close()\n",
    "\n",
    "    except (Exception, psycopg2.Error) as error:\n",
    "        print(f'Error importing data fromm{csv_file}: {error}')"
   ]
  },
  {
   "cell_type": "code",
   "execution_count": null,
   "metadata": {},
   "outputs": [],
   "source": [
    "csv_folder = '../database_file'\n",
    "for filename in os.listdire(csv_folder):\n",
    "    if filename.endswith('.csv'):\n",
    "        csv_file = os.path.join(csv_folder, filename)\n",
    "        table_name = filename[:-4]\n",
    "        import_csv_to_table(csv_file,table_name)"
   ]
  }
 ],
 "metadata": {
  "kernelspec": {
   "display_name": "week3_env",
   "language": "python",
   "name": "python3"
  },
  "language_info": {
   "codemirror_mode": {
    "name": "ipython",
    "version": 3
   },
   "file_extension": ".py",
   "mimetype": "text/x-python",
   "name": "python",
   "nbconvert_exporter": "python",
   "pygments_lexer": "ipython3",
   "version": "3.8.10"
  }
 },
 "nbformat": 4,
 "nbformat_minor": 2
}
